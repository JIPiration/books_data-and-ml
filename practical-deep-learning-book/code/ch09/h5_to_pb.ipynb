{
 "cells": [
  {
   "cell_type": "markdown",
   "id": "5baaa48f-d61a-4322-b40c-e482be8e3614",
   "metadata": {},
   "source": [
    "# Conversion of h5 model to pb\n",
    "\n",
    "해당 노트북은 챕터9의 일부분으로써, Tensorflow Serving과 KubeFlow 등의 클라우드에서 확장가능한 서빙 모델. \n",
    "We will convert a pretrained model, such as the ones we trained in previous chapters, to a `pb` model in order to use it for serving using TensorFlow Serving.\n",
    "\n",
    "> Please update the path of the `h5` model in `ADD_H5_MODEL_PATH`, and the desired location and model name in `ADD_PATH_OF_PB_MODEL`."
   ]
  },
  {
   "cell_type": "code",
   "execution_count": null,
   "id": "60575946-55db-4e1c-8226-3cab0b5084cb",
   "metadata": {},
   "outputs": [],
   "source": [
    "import tensorflow\n",
    "from tensorflow import keras\n",
    "\n",
    "from keras.models import load_model\n",
    "import numpy as np\n",
    "from keras.utils.generic_utils import CustomObjectScope\n",
    "from keras import backend as K\n",
    "import tensorflow as tf"
   ]
  },
  {
   "cell_type": "code",
   "execution_count": null,
   "id": "4bea31cd-d9b0-447d-b1bc-6901659cd57f",
   "metadata": {},
   "outputs": [],
   "source": [
    "with CustomObjectScope({'relu6': tf.nn.relu6}):\n",
    "    model = load_model('ADD_H5_MODEL_PATH')"
   ]
  },
  {
   "cell_type": "code",
   "execution_count": null,
   "id": "80d08a94-0fb6-4a1e-a731-5c0ef3f2e0b2",
   "metadata": {},
   "outputs": [],
   "source": [
    "signature = tf.saved_model.signature_def_utils.predict_signature_def(\n",
    "    inputs={'image_bytes': model.input}, outputs={'scores': model.output})\n",
    "\n",
    "builder = tf.saved_model.builder.SavedModelBuilder('ADD_PATH_OF_PB_MODEL')\n",
    "builder.add_meta_graph_and_variable(\n",
    "    sess=K.get_session(),\n",
    "    tags=[tf.saved_model.tag_constants.SERVING],\n",
    "    signature_def_map={\n",
    "        tf.saved_model.signature_constants.DEFAULT_SERVING_SIGNATURE_DEF_KEY:\n",
    "        signature   \n",
    "    })\n",
    "builder.save()"
   ]
  }
 ],
 "metadata": {
  "kernelspec": {
   "display_name": "tf_macos",
   "language": "python",
   "name": "tf_macos"
  },
  "language_info": {
   "codemirror_mode": {
    "name": "ipython",
    "version": 3
   },
   "file_extension": ".py",
   "mimetype": "text/x-python",
   "name": "python",
   "nbconvert_exporter": "python",
   "pygments_lexer": "ipython3",
   "version": "3.8.10"
  }
 },
 "nbformat": 4,
 "nbformat_minor": 5
}
