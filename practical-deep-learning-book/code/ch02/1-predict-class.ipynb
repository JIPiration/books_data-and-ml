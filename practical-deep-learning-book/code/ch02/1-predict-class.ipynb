{
 "cells": [
  {
   "cell_type": "code",
   "execution_count": 1,
   "id": "ced84bb2-ca4a-481d-9eaf-edffc7006fd4",
   "metadata": {},
   "outputs": [
    {
     "data": {
      "text/plain": [
       "False"
      ]
     },
     "execution_count": 1,
     "metadata": {},
     "output_type": "execute_result"
    }
   ],
   "source": [
    "try:\n",
    "    import google.colab\n",
    "    IS_COLAB_ENV = True\n",
    "except:\n",
    "    IS_COLAB_ENV = False\n",
    "IS_COLAB_ENV"
   ]
  },
  {
   "cell_type": "code",
   "execution_count": 2,
   "id": "b2333ec0-2d1d-4b32-bdf9-0fc59906bca0",
   "metadata": {},
   "outputs": [],
   "source": [
    "if IS_COLAB_ENV:\n",
    "    !pip install tensorflow==2.0.0"
   ]
  },
  {
   "cell_type": "markdown",
   "id": "8ae8ea94-54a5-4a8f-b525-3e575c4799b5",
   "metadata": {},
   "source": [
    "# Predict Category of an Image\n",
    "\n",
    "The image classification task simply answers the question “Does the image contain X” where X can be a cat, dog or any other category/class of objects. In this file, we see the code for predicting categories for an image."
   ]
  },
  {
   "cell_type": "code",
   "execution_count": null,
   "id": "c71b3324-d38b-4f81-9db4-147c3fb9f384",
   "metadata": {},
   "outputs": [],
   "source": [
    "import tensorflow as tf\n",
    "from tensorflow.keras.applications.resnet50 import preprocess_input, decode_predictions\n",
    "from tensorflow.keras.preprocessing import image\n",
    "import numpy as np\n",
    "import matplotlib.pyplot as plt"
   ]
  },
  {
   "cell_type": "code",
   "execution_count": null,
   "id": "8ea5690c-2be0-4aa1-ac64-fa2b61188f0c",
   "metadata": {},
   "outputs": [],
   "source": [
    "IMG_PATH = '../../sample-images/cat.jpg'\n",
    "if IS_COLAB_ENV:\n",
    "    !curl https://raw.githubusercontent.com/PracticalDL/Practical-Deep-Learning-Book/master/sample-images/cat.jpg --output cat.jpg\n",
    "    IMG_PATH = 'cat.jpg'"
   ]
  },
  {
   "cell_type": "code",
   "execution_count": null,
   "id": "70295bec-e9fb-43f5-887c-40b8cb959509",
   "metadata": {},
   "outputs": [],
   "source": [
    "img = image.load_img(IMG_PATH, target_size=(224, 224))\n",
    "plt.imshow(img)\n",
    "plt.show()"
   ]
  },
  {
   "cell_type": "code",
   "execution_count": null,
   "id": "9038304d-437c-4f9c-82c8-68304cb183bb",
   "metadata": {},
   "outputs": [],
   "source": [
    "model = tf.keras.applications.resnet50.ResNet50()"
   ]
  },
  {
   "cell_type": "code",
   "execution_count": null,
   "id": "9feb159d-6903-46ed-9807-cbe160a888d1",
   "metadata": {},
   "outputs": [],
   "source": [
    "def predict(img_path):\n",
    "    img = image.load_img(img_path, target_size=(224, 224))\n",
    "    model = tf.keras.applications.resnet50.ResNet50()\n",
    "    img_array = image.img_to_array(img)\n",
    "    img_batch = np.expand_dims(img_array, axis=0)\n",
    "    img_preprocessed = preprocess_input(img_batch)\n",
    "    prediction = model.predict(img_preprocessed)\n",
    "    print(decode_predictions(prediction, top=3)[0])"
   ]
  },
  {
   "cell_type": "code",
   "execution_count": null,
   "id": "97d41d2a-cccd-4082-88db-c0d6bfb29886",
   "metadata": {},
   "outputs": [],
   "source": [
    "predict(IMG_PATH)"
   ]
  }
 ],
 "metadata": {
  "kernelspec": {
   "display_name": "local-dev",
   "language": "python",
   "name": ".env"
  },
  "language_info": {
   "codemirror_mode": {
    "name": "ipython",
    "version": 3
   },
   "file_extension": ".py",
   "mimetype": "text/x-python",
   "name": "python",
   "nbconvert_exporter": "python",
   "pygments_lexer": "ipython3",
   "version": "3.9.1"
  }
 },
 "nbformat": 4,
 "nbformat_minor": 5
}
